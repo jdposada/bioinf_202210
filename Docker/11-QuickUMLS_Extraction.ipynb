{
 "cells": [
  {
   "cell_type": "code",
   "execution_count": 4,
   "id": "01fd0d54-8344-4665-b998-9bbcd7a5b03c",
   "metadata": {},
   "outputs": [],
   "source": [
    "import sys\n",
    "\n",
    "import spacy\n",
    "import medspacy\n",
    "import nltk\n",
    "\n",
    "from medspacy.util import DEFAULT_PIPENAMES\n",
    "from medspacy.visualization import visualize_ent\n",
    "from medspacy.section_detection import Sectionizer"
   ]
  },
  {
   "cell_type": "code",
   "execution_count": 5,
   "id": "5d439991-4c13-4d2f-85b1-b4386d2950ba",
   "metadata": {},
   "outputs": [
    {
     "name": "stdout",
     "output_type": "stream",
     "text": [
      "Running on platform: linux\n"
     ]
    }
   ],
   "source": [
    "print('Running on platform: {}'.format(sys.platform))"
   ]
  },
  {
   "cell_type": "code",
   "execution_count": null,
   "id": "36a19109-7a70-4e2b-8c74-35bbc9998cd1",
   "metadata": {},
   "outputs": [],
   "source": [
    "medspacy_pipes = DEFAULT_PIPENAMES.copy()\n",
    "\n",
    "if 'medspacy_quickumls' not in medspacy_pipes: \n",
    "    medspacy_pipes.add('medspacy_quickumls')\n",
    "    \n",
    "print(medspacy_pipes)\n",
    "    \n",
    "nlp = medspacy.load(enable = medspacy_pipes)"
   ]
  },
  {
   "cell_type": "code",
   "execution_count": null,
   "id": "50578668-1efe-4fb4-acd1-1dc33634b14d",
   "metadata": {},
   "outputs": [],
   "source": [
    "nlp.pipe_names"
   ]
  },
  {
   "cell_type": "code",
   "execution_count": null,
   "id": "10cd2717-fec4-4b7d-bd8b-251e5a0e9846",
   "metadata": {},
   "outputs": [],
   "source": [
    "concept_text = 'Decreased dipalmitoyllecithin content found in lung specimens'\n",
    "doc = nlp(concept_text)\n",
    "visualize_ent(doc)"
   ]
  },
  {
   "cell_type": "code",
   "execution_count": null,
   "id": "e965f543-f6a6-4ed8-a9f0-7ea95e070300",
   "metadata": {},
   "outputs": [],
   "source": [
    "for ent in doc.ents:\n",
    "    print('Entity text : {}'.format(ent.text))\n",
    "    print('Label (UMLS CUI) : {}'.format(ent.label_))\n",
    "    print('Similarity : {}'.format(ent._.similarity))\n",
    "    print('Semtypes : {}'.format(ent._.semtypes))"
   ]
  },
  {
   "cell_type": "code",
   "execution_count": null,
   "id": "d7aef6a1-7f3e-470a-bcc3-6082029df097",
   "metadata": {},
   "outputs": [],
   "source": [
    "nlp.pipe_names"
   ]
  },
  {
   "cell_type": "code",
   "execution_count": null,
   "id": "ef038e86-2865-4c7c-a2a1-c4b32160b8e2",
   "metadata": {},
   "outputs": [],
   "source": [
    "negation_text = 'No findings of Dipalmitoyl Phosphatidylcholine in pulmonary specimen.'"
   ]
  },
  {
   "cell_type": "code",
   "execution_count": null,
   "id": "5b3c51b4-f8b2-4339-b4bd-033e37e89fa9",
   "metadata": {},
   "outputs": [],
   "source": [
    "negation_doc = nlp(negation_text)"
   ]
  },
  {
   "cell_type": "code",
   "execution_count": null,
   "id": "936a59ab-bffc-436d-8710-66daa11f20b7",
   "metadata": {},
   "outputs": [],
   "source": [
    "for ent in negation_doc.ents:\n",
    "    print('Entity text : {}'.format(ent.text))\n",
    "    print('Label (UMLS CUI) : {}'.format(ent.label_))\n",
    "    print('Similarity : {}'.format(ent._.similarity))\n",
    "    print('Semtypes : {}'.format(ent._.semtypes))"
   ]
  },
  {
   "cell_type": "code",
   "execution_count": null,
   "id": "9a5972de-bb2d-449f-aded-f8435fcf54f8",
   "metadata": {},
   "outputs": [],
   "source": [
    "visualize_ent(negation_doc)"
   ]
  },
  {
   "cell_type": "code",
   "execution_count": null,
   "id": "58b9bd7e-f1a8-4c71-b50a-559c4911a81f",
   "metadata": {},
   "outputs": [],
   "source": [
    "for ent in negation_doc.ents:\n",
    "    if any([ent._.is_negated, ent._.is_uncertain, ent._.is_historical, ent._.is_family, ent._.is_hypothetical, ]):\n",
    "        print(\"'{0}' modified by {1} in: '{2}'\".format(ent, ent._.modifiers, ent.sent))\n",
    "        print()"
   ]
  },
  {
   "cell_type": "code",
   "execution_count": null,
   "id": "acc6ebf9-1677-4ef4-b45e-ebf5e1a415e2",
   "metadata": {},
   "outputs": [],
   "source": [
    "if 'sectionizer' not in nlp.pipe_names:\n",
    "    print('Creating and adding sectionizer to pipeline...')\n",
    "    # Now let's add a sectionizer as our final step\n",
    "    nlp.add_pipe(\"medspacy_sectionizer\")"
   ]
  },
  {
   "cell_type": "code",
   "execution_count": null,
   "id": "70c46498-a758-4bf7-bf6d-517b11828295",
   "metadata": {},
   "outputs": [],
   "source": [
    "nlp.pipe_names"
   ]
  },
  {
   "cell_type": "code",
   "execution_count": null,
   "id": "ba44fd3b-dcce-459f-83dd-ab178de58705",
   "metadata": {},
   "outputs": [],
   "source": [
    "section_text = \"\"\"\n",
    "Family History:\n",
    "Dipalmitoyl Phosphatidylcholine found in father's pulmonary specimen.\n",
    "\n",
    "History of Present Illness:\n",
    "No evidence of Dipalmitoyl Phosphatidylcholine in patient's pulmonary specimen.\n",
    "\"\"\""
   ]
  },
  {
   "cell_type": "code",
   "execution_count": null,
   "id": "3086f3fb-0efc-4994-a51a-e3ba5c523dd5",
   "metadata": {},
   "outputs": [],
   "source": [
    "section_doc = nlp(section_text)"
   ]
  },
  {
   "cell_type": "code",
   "execution_count": null,
   "id": "9bdfbea2-3c72-4261-b07b-94f88d33b12d",
   "metadata": {},
   "outputs": [],
   "source": [
    "# Normalized section titles\n",
    "print(section_doc._.section_titles)"
   ]
  },
  {
   "cell_type": "code",
   "execution_count": null,
   "id": "8d926068-517f-4377-a115-7f861cc5b99d",
   "metadata": {},
   "outputs": [],
   "source": [
    "visualize_ent(section_doc)"
   ]
  },
  {
   "cell_type": "code",
   "execution_count": null,
   "id": "1bc5ac23-9bc3-45da-adb3-afd2b9618401",
   "metadata": {},
   "outputs": [],
   "source": [
    "for ent in section_doc.ents:\n",
    "    print('Entity text : {}'.format(ent.text))\n",
    "    print('Label (UMLS CUI) : {}'.format(ent.label_))\n",
    "    print('Similarity : {}'.format(ent._.similarity))\n",
    "    print('Semtypes : {}'.format(ent._.semtypes))\n",
    "    print('Section Category : {}'.format(ent._.section_category))\n",
    "    print('Section Title : {}'.format(ent._.section_title))"
   ]
  }
 ],
 "metadata": {
  "kernelspec": {
   "display_name": "Python 3 (ipykernel)",
   "language": "python",
   "name": "python3"
  },
  "language_info": {
   "codemirror_mode": {
    "name": "ipython",
    "version": 3
   },
   "file_extension": ".py",
   "mimetype": "text/x-python",
   "name": "python",
   "nbconvert_exporter": "python",
   "pygments_lexer": "ipython3",
   "version": "3.9.10"
  }
 },
 "nbformat": 4,
 "nbformat_minor": 5
}
